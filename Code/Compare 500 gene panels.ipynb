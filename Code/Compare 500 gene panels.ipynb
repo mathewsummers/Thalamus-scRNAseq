{
 "cells": [
  {
   "cell_type": "markdown",
   "id": "a7e5db99",
   "metadata": {},
   "source": [
    "## Look at MERSCOPE panel classification accuracy\n",
    "Quick notebook to compare classification accuracy, basically a subset of Cluster Benchmarking"
   ]
  },
  {
   "cell_type": "code",
   "execution_count": 1,
   "id": "2e4cbeff",
   "metadata": {},
   "outputs": [],
   "source": [
    "import numpy as np\n",
    "import pandas as pd\n",
    "import anndata as ad\n",
    "import scanpy as sc\n",
    "import scipy.io\n",
    "import scipy.sparse\n",
    "import matplotlib.pyplot as plt\n",
    "import seaborn as sns\n",
    "from sklearn.neighbors import NearestCentroid\n",
    "import pickle\n",
    "import json"
   ]
  },
  {
   "cell_type": "code",
   "execution_count": 4,
   "id": "652195d9",
   "metadata": {},
   "outputs": [
    {
     "name": "stderr",
     "output_type": "stream",
     "text": [
      "C:\\Users\\mathew.summers\\Anaconda3\\envs\\scanpy1.9\\lib\\site-packages\\anndata\\_core\\anndata.py:121: ImplicitModificationWarning: Transforming to str index.\n",
      "  warnings.warn(\"Transforming to str index.\", ImplicitModificationWarning)\n"
     ]
    }
   ],
   "source": [
    "# Load in pre-processed data from glutamatergic class designation, subclass to all rank_gene_groups already performed\n",
    "gluData = sc.read(\"../Data/clData.h5ad\")"
   ]
  },
  {
   "cell_type": "code",
   "execution_count": 5,
   "id": "db39e911",
   "metadata": {},
   "outputs": [],
   "source": [
    "# Acquire genes\n",
    "def getUniqueGenes(geneDict, perClass = 1):\n",
    "    \"\"\" Function to find X number of genes per class for a given gene dictionary, and assemble them\n",
    "    into a list of unique genes. \"\"\"\n",
    "    import numpy as np\n",
    "    \n",
    "    keyNames = list(geneDict.keys())\n",
    "    if perClass > len(geneDict[keyNames[0]]):\n",
    "        print(\"Requested genes per class greater than number contained within first dict element - using that instead.\")\n",
    "        perClass = len(geneDict[keyNames[0]])\n",
    "    \n",
    "    geneList = []\n",
    "    for name in keyNames:\n",
    "        geneList.append(geneDict[name][0:perClass])\n",
    "        \n",
    "    geneList = np.unique(geneList)\n",
    "    return geneList"
   ]
  },
  {
   "cell_type": "code",
   "execution_count": 183,
   "id": "554689aa",
   "metadata": {},
   "outputs": [],
   "source": [
    "def evalPanel(geneData,genePanel,cluster):\n",
    "    \"\"\" Function to evaluate the accuracy of a gene panel and plot confusion matrices if requested\"\"\"\n",
    "    from sklearn.neighbors import NearestCentroid\n",
    "    from scanpy.metrics import confusion_matrix\n",
    "    import seaborn as sns\n",
    "    \n",
    "    # Project data onto input gene panel, then establish a nearest centroid classifier\n",
    "    projGenes = geneData[:,genePanel].X\n",
    "    nn = NearestCentroid()\n",
    "    nn.fit(projGenes,cluster)\n",
    "    assignedCluster = nn.predict(projGenes)\n",
    "    accuracy = nn.score(projGenes,cluster)\n",
    "    # Get confusion matrix\n",
    "    confMatrix = confusion_matrix(cluster,assignedCluster)\n",
    "    return accuracy, confMatrix"
   ]
  },
  {
   "cell_type": "code",
   "execution_count": 7,
   "id": "99a96c0e",
   "metadata": {},
   "outputs": [],
   "source": [
    "# Create a super list dictionary of top marker genes for each subclass, which can be later indexed for specific gene panels\n",
    "markerGenes = {}\n",
    "for indx in gluData.uns[\"rank_genes_groups\"][\"pts\"].columns:\n",
    "    genesRanked = pd.DataFrame(\n",
    "            {key: gluData.uns[\"rank_genes_groups\"][key][indx]\n",
    "            for key in ['names', 'pvals', 'scores', 'logfoldchanges']})\n",
    "    pts = gluData.uns[\"rank_genes_groups\"][\"pts\"][indx][genesRanked.names].reset_index(drop=True).rename(\"pts\")\n",
    "    pts_rest = gluData.uns[\"rank_genes_groups\"][\"pts_rest\"][indx][genesRanked.names].reset_index(drop=True).rename(\"pts_rest\")\n",
    "    pts_diff = pd.Series(pts - pts_rest, name=\"pts_diff\")\n",
    "    genesRanked = pd.concat([genesRanked, pts, pts_rest, pts_diff], axis=1)\n",
    "    genesRanked = genesRanked.sort_values(by=[\"scores\"], ascending=False, key=abs)\n",
    "    genesFiltered = genesRanked.iloc[0:500,:]\n",
    "    genesFiltered = genesFiltered.sort_values(by=[\"pts_diff\"], ascending=False)\n",
    "    markerGenes[indx] = genesFiltered[\"names\"][0:32].tolist()\n",
    "    \n",
    "# Assemble a dictionary w/ varying length gene panels\n",
    "wlPanel = {}\n",
    "panelIDs = [1, 2, 3, 4, 8, 16, 32]\n",
    "for i in panelIDs:\n",
    "    geneList = list(getUniqueGenes(markerGenes,i))\n",
    "    wlPanel[str(len(geneList))] = geneList"
   ]
  },
  {
   "cell_type": "code",
   "execution_count": 10,
   "id": "4cbd70fb",
   "metadata": {},
   "outputs": [],
   "source": [
    "with open(\"../Data/Gene Panels/scGeneFit_cluster_genes.json\", \"r\") as f:\n",
    "    gfPanel = json.load(f)\n",
    "    \n",
    "with open(\"../Data/Gene Panels/PROPOSE_cluster_genes.json\", \"r\") as f:\n",
    "    prPanel = json.load(f)\n",
    "    \n",
    "with open(\"../Data/Gene Panels/activeSVM_cluster_genes.json\", \"r\") as f:\n",
    "    svPanel = json.load(f)\n",
    "    \n",
    "with open(\"../Data/Gene Panels/MERSCOPE_cluster_genes.json\", \"r\") as f:\n",
    "    fbPanel = json.load(f)"
   ]
  },
  {
   "cell_type": "code",
   "execution_count": 185,
   "id": "7756fc99",
   "metadata": {
    "scrolled": true
   },
   "outputs": [],
   "source": [
    "# Systematically evaluate gene panels\n",
    "[wlAccuracy,wlMatrix] = evalPanel(gluData,wlPanel['448'],gluData.obs[\"cluster_label\"])\n",
    "[gfAccuracy,gfMatrix] = evalPanel(gluData,gfPanel['500'],gluData.obs[\"cluster_label\"])\n",
    "[prAccuracy,prMatrix] = evalPanel(gluData,prPanel['500'],gluData.obs[\"cluster_label\"])\n",
    "[svAccuracy,svMatrix] = evalPanel(gluData,svPanel['500'],gluData.obs[\"cluster_label\"])\n",
    "[fbAccuracy,fbMatrix] = evalPanel(gluData,fbPanel['500'],gluData.obs[\"cluster_label\"])"
   ]
  },
  {
   "cell_type": "code",
   "execution_count": 182,
   "id": "c1a8c2d3",
   "metadata": {},
   "outputs": [
    {
     "data": {
      "image/png": "[encoded data removed]",
      "text/plain": [
       "<Figure size 600x360 with 1 Axes>"
      ]
     },
     "metadata": {
      "needs_background": "light"
     },
     "output_type": "display_data"
    }
   ],
   "source": [
    "# Plot error bar comparison of each 500 gene panel\n",
    "# Compute standard deviation\n",
    "wlError = np.std(np.diag(wlMatrix))\n",
    "gfError = np.std(np.diag(gfMatrix))\n",
    "prError = np.std(np.diag(prMatrix))\n",
    "svError = np.std(np.diag(svMatrix))\n",
    "fbError = np.std(np.diag(fbMatrix))\n",
    "\n",
    "# Make plots\n",
    "plt.figure(figsize=(5, 3), dpi=120)\n",
    "# ax.bar([\"Wilcoxon\",\"PROPOSE\",\"scGeneFit\",\"activeSVM\",\"MERSCOPE\"],[wilAccuracy[4],prAccuracy,gfAccuracy,svAccuracy,mrAccuracy],\n",
    "#       edgecolor = 'black',linewidth = 2)\n",
    "plt.bar('Wilcoxon',wlAccuracy, edgecolor = 'black', linewidth = 1.2)\n",
    "plt.bar('scGeneFit',gfAccuracy, edgecolor = 'black', linewidth = 1.2)\n",
    "plt.bar('PROPOSE',prAccuracy, edgecolor = 'black', linewidth = 1.2)\n",
    "plt.bar('activeSVM',svAccuracy, edgecolor = 'black', linewidth = 1.2)\n",
    "plt.bar('Forebrain',fbAccuracy,  facecolor = 'lightgray', edgecolor = 'black', linewidth = 1.2)\n",
    "plt.errorbar(['Wilcoxon','PROPOSE','scGeneFit','activeSVM','Forebrain'],\n",
    "             [wlAccuracy, prAccuracy, gfAccuracy, svAccuracy, fbAccuracy],\n",
    "             yerr = [wlError, prError,gfError,svError,fbError], fmt = '.k')\n",
    "plt.ylim(0.5, 1)\n",
    "plt.ylabel(\"Classification Accuracy\")\n",
    "plt.title(\"500 Gene - Panel Accuracy\")\n",
    "\n",
    "plt.savefig('../Figures/forebrain panel comparison.svg')"
   ]
  }
 ],
 "metadata": {
  "kernelspec": {
   "display_name": "Python 3 (ipykernel)",
   "language": "python",
   "name": "python3"
  },
  "language_info": {
   "codemirror_mode": {
    "name": "ipython",
    "version": 3
   },
   "file_extension": ".py",
   "mimetype": "text/x-python",
   "name": "python",
   "nbconvert_exporter": "python",
   "pygments_lexer": "ipython3",
   "version": "3.10.4"
  }
 },
 "nbformat": 4,
 "nbformat_minor": 5
}
