{
 "cells": [
  {
   "cell_type": "markdown",
   "id": "39c2f0e9",
   "metadata": {},
   "source": [
    "## scGeneFit\n",
    "Notebook to try and implement scGeneFit method of finding informative marker genes. scGeneFit finds an N dimensional projection of the data, where each subspace dimension aligns with a dimension of the original data - thus corresponding to single genes, and not linear combinations of many genes.  \n",
    "\n",
    "https://www.nature.com/articles/s41467-021-21453-4#Sec9\n"
   ]
  },
  {
   "cell_type": "code",
   "execution_count": 4,
   "id": "9b73000f",
   "metadata": {},
   "outputs": [],
   "source": [
    "import scGeneFit.functions as gf\n",
    "import numpy as np\n",
    "import pandas as pd\n",
    "import anndata as ad\n",
    "import scanpy as sc\n",
    "import scipy.io\n",
    "import scipy.sparse\n",
    "import matplotlib.pyplot as plt\n",
    "\n",
    "np.random.seed(0)"
   ]
  },
  {
   "cell_type": "code",
   "execution_count": 3,
   "id": "0fd09ebf",
   "metadata": {},
   "outputs": [],
   "source": [
    "from sklearn.neighbors import NearestCentroid\n",
    "clf=NearestCentroid()\n",
    "\n",
    "def performance(X_train, y_train, X_test, y_test, clf):\n",
    "    clf.fit(X_train, y_train)\n",
    "    return clf.score(X_test, y_test)"
   ]
  },
  {
   "cell_type": "markdown",
   "id": "2f88cd7d",
   "metadata": {},
   "source": [
    "## Subclass gene panels"
   ]
  },
  {
   "cell_type": "code",
   "execution_count": 5,
   "id": "7f9eb063",
   "metadata": {},
   "outputs": [
    {
     "name": "stderr",
     "output_type": "stream",
     "text": [
      "C:\\Users\\mathew.summers\\Anaconda3\\envs\\scanpy1.9\\lib\\site-packages\\anndata\\_core\\anndata.py:121: ImplicitModificationWarning: Transforming to str index.\n",
      "  warnings.warn(\"Transforming to str index.\", ImplicitModificationWarning)\n"
     ]
    }
   ],
   "source": [
    "#Load data\n",
    "gluData = sc.read(\"../Data/gluData.h5ad\")"
   ]
  },
  {
   "cell_type": "markdown",
   "id": "e38f1cb2",
   "metadata": {},
   "source": [
    "scGeneFit requires a dense array, so need to find top X genes for each group that can be held in memory\n"
   ]
  },
  {
   "cell_type": "code",
   "execution_count": 65,
   "id": "224e515c",
   "metadata": {},
   "outputs": [
    {
     "name": "stdout",
     "output_type": "stream",
     "text": [
      "Checked top 3000 genes from each group, found 8184 unique genes for further investigation.\n"
     ]
    }
   ],
   "source": [
    "# Create a dictionary of top marker genes for each subclass\n",
    "topXgenes = 3000\n",
    "markerGenes = {}\n",
    "for indx in gluData.uns[\"rank_genes_groups\"][\"pts\"].columns:\n",
    "    genesRanked = pd.DataFrame(\n",
    "            {key: gluData.uns[\"rank_genes_groups\"][key][indx]\n",
    "            for key in ['names', 'pvals', 'scores', 'logfoldchanges']})\n",
    "    pts = gluData.uns[\"rank_genes_groups\"][\"pts\"][indx][genesRanked.names].reset_index(drop=True).rename(\"pts\")\n",
    "    pts_rest = gluData.uns[\"rank_genes_groups\"][\"pts_rest\"][indx][genesRanked.names].reset_index(drop=True).rename(\"pts_rest\")\n",
    "    pts_diff = pd.Series(pts - pts_rest, name=\"pts_diff\")\n",
    "    genesRanked = pd.concat([genesRanked, pts, pts_rest, pts_diff], axis=1)\n",
    "    genesRanked = genesRanked.sort_values(by=[\"scores\"], ascending=False, key=abs)\n",
    "    genesFiltered = genesRanked.iloc[0:topXgenes,:]\n",
    "    markerGenes[indx] = genesFiltered[\"names\"].tolist()\n",
    "\n",
    "# Find the unique elements of the list\n",
    "keyNames = list(markerGenes.keys())\n",
    "geneList = []\n",
    "for name in keyNames:\n",
    "    geneList.append(markerGenes[name][:])\n",
    "geneList = np.unique(geneList)\n",
    "print(\"Checked top {} genes from each group, found {} unique genes for further investigation.\".format(topXgenes, len(geneList)))"
   ]
  },
  {
   "cell_type": "code",
   "execution_count": 38,
   "id": "d6e2ae55",
   "metadata": {},
   "outputs": [],
   "source": [
    "# Small dataset that should run within a few seconds\n",
    "# testData = gluData.X[0:1000,0:1000].toarray()\n",
    "# testLabel = gluData.obs[\"subclass_label\"][0:1000]"
   ]
  },
  {
   "cell_type": "code",
   "execution_count": 66,
   "id": "d45c67af",
   "metadata": {},
   "outputs": [],
   "source": [
    "testData = gluData[:,geneList].X.toarray()\n",
    "testLabel = gluData.obs[\"subclass_label\"]"
   ]
  },
  {
   "cell_type": "markdown",
   "id": "ef797853",
   "metadata": {},
   "source": [
    "With 1000 topXgenes and 45 markers, takes 83 seconds to run.  \n",
    "With 3000 topXgenes and 15 markers, takes 1202 seconds to run.  \n",
    "With 3000 topXgenes and 30 markers, takes 1148 seconds to run.\n",
    "With 3000 topXgenes and 60 markers, takes 1018 seconds to run.\n",
    "With 3000 topXgenes and 500 markers, takes 966 seconds to run.  \n"
   ]
  },
  {
   "cell_type": "code",
   "execution_count": 94,
   "id": "006edf54",
   "metadata": {},
   "outputs": [
    {
     "name": "stdout",
     "output_type": "stream",
     "text": [
      "Solving a linear program with 8184 variables and 71 constraints\n",
      "Time elapsed: 1018.0951681137085 seconds\n",
      "Accuracy (whole data, 500  markers):  0.8461793382519666\n",
      "Accuracy (selected 60 markers) 0.8438769992848796\n"
     ]
    }
   ],
   "source": [
    "num_markers = 60\n",
    "method = \"centers\"\n",
    "redundancy = 0.25\n",
    "\n",
    "markers = gf.get_markers(testData,testLabel,num_markers, method = method, redundancy = redundancy)\n",
    "`\n",
    "accuracy=performance(testData,testLabel,testData,testLabel, clf)\n",
    "accuracy_markers=performance(testData[:,markers],testLabel,testData[:,markers],testLabel, clf)\n",
    "\n",
    "print(\"Accuracy (whole data,\", d, \" markers): \", accuracy)\n",
    "print(\"Accuracy (selected\", num_markers, \"markers)\", accuracy_markers)"
   ]
  },
  {
   "cell_type": "code",
   "execution_count": 82,
   "id": "10511ff7",
   "metadata": {},
   "outputs": [
    {
     "data": {
      "text/plain": [
       "<9x5 sparse matrix of type '<class 'numpy.float32'>'\n",
       "\twith 17 stored elements in Compressed Sparse Row format>"
      ]
     },
     "execution_count": 82,
     "metadata": {},
     "output_type": "execute_result"
    }
   ],
   "source": [
    "gluData[1:10,geneList[0:5]].X"
   ]
  },
  {
   "cell_type": "code",
   "execution_count": 91,
   "id": "b2e0841c",
   "metadata": {},
   "outputs": [],
   "source": [
    "genePanel15 = geneList[markers]"
   ]
  },
  {
   "cell_type": "code",
   "execution_count": 93,
   "id": "561133e8",
   "metadata": {},
   "outputs": [],
   "source": [
    "genePanel30 = geneList[markers]"
   ]
  },
  {
   "cell_type": "code",
   "execution_count": 95,
   "id": "e12ceb5d",
   "metadata": {},
   "outputs": [],
   "source": [
    "genePanel60 = geneList[markers]"
   ]
  },
  {
   "cell_type": "code",
   "execution_count": 87,
   "id": "5316be6f",
   "metadata": {},
   "outputs": [],
   "source": [
    "genePanel500 = geneList[markers]"
   ]
  },
  {
   "cell_type": "code",
   "execution_count": 110,
   "id": "af7d73d2",
   "metadata": {},
   "outputs": [],
   "source": [
    "geneDict = {\"1\" : genePanel15, \"2\" : genePanel30, \"4\" : genePanel60, \"32\" : genePanel500}"
   ]
  },
  {
   "cell_type": "code",
   "execution_count": 101,
   "id": "4d0f7eb4",
   "metadata": {},
   "outputs": [],
   "source": [
    "import pickle\n",
    "\n",
    "with open(\"../Data/subclass_marker_genes_scGeneFit.pickle\", 'wb') as f:\n",
    "    pickle.dump(geneDict, f)\n",
    "\n",
    "# # Read data from file:\n",
    "# with open(\"../Data/subclass_marker_genes_scGeneFit.pickle\", 'rb') as f:\n",
    "#     geneDict = pickle.load(f)"
   ]
  },
  {
   "cell_type": "code",
   "execution_count": 118,
   "id": "7fb7059d",
   "metadata": {},
   "outputs": [
    {
     "data": {
      "text/html": [
       "<div>\n",
       "<style scoped>\n",
       "    .dataframe tbody tr th:only-of-type {\n",
       "        vertical-align: middle;\n",
       "    }\n",
       "\n",
       "    .dataframe tbody tr th {\n",
       "        vertical-align: top;\n",
       "    }\n",
       "\n",
       "    .dataframe thead th {\n",
       "        text-align: right;\n",
       "    }\n",
       "</style>\n",
       "<table border=\"1\" class=\"dataframe\">\n",
       "  <thead>\n",
       "    <tr style=\"text-align: right;\">\n",
       "      <th></th>\n",
       "      <th>0</th>\n",
       "    </tr>\n",
       "  </thead>\n",
       "  <tbody>\n",
       "    <tr>\n",
       "      <th>50</th>\n",
       "      <td>Ephb1</td>\n",
       "    </tr>\n",
       "    <tr>\n",
       "      <th>51</th>\n",
       "      <td>Fign</td>\n",
       "    </tr>\n",
       "    <tr>\n",
       "      <th>52</th>\n",
       "      <td>Dscaml1</td>\n",
       "    </tr>\n",
       "    <tr>\n",
       "      <th>53</th>\n",
       "      <td>Tanc1</td>\n",
       "    </tr>\n",
       "    <tr>\n",
       "      <th>54</th>\n",
       "      <td>Klhl1</td>\n",
       "    </tr>\n",
       "    <tr>\n",
       "      <th>55</th>\n",
       "      <td>Adcy1</td>\n",
       "    </tr>\n",
       "    <tr>\n",
       "      <th>56</th>\n",
       "      <td>Glra3</td>\n",
       "    </tr>\n",
       "    <tr>\n",
       "      <th>57</th>\n",
       "      <td>Necab1</td>\n",
       "    </tr>\n",
       "    <tr>\n",
       "      <th>58</th>\n",
       "      <td>Zfp536</td>\n",
       "    </tr>\n",
       "    <tr>\n",
       "      <th>59</th>\n",
       "      <td>Timp3</td>\n",
       "    </tr>\n",
       "  </tbody>\n",
       "</table>\n",
       "</div>"
      ],
      "text/plain": [
       "          0\n",
       "50    Ephb1\n",
       "51     Fign\n",
       "52  Dscaml1\n",
       "53    Tanc1\n",
       "54    Klhl1\n",
       "55    Adcy1\n",
       "56    Glra3\n",
       "57   Necab1\n",
       "58   Zfp536\n",
       "59    Timp3"
      ]
     },
     "execution_count": 118,
     "metadata": {},
     "output_type": "execute_result"
    }
   ],
   "source": [
    "pd.DataFrame(geneList[markers]).tail(10)"
   ]
  },
  {
   "cell_type": "markdown",
   "id": "4bd25199",
   "metadata": {},
   "source": [
    "## Cluster gene panel"
   ]
  },
  {
   "cell_type": "code",
   "execution_count": 120,
   "id": "56cae0d3",
   "metadata": {},
   "outputs": [
    {
     "name": "stderr",
     "output_type": "stream",
     "text": [
      "C:\\Users\\mathew.summers\\Anaconda3\\envs\\scanpy1.9\\lib\\site-packages\\anndata\\_core\\anndata.py:121: ImplicitModificationWarning: Transforming to str index.\n",
      "  warnings.warn(\"Transforming to str index.\", ImplicitModificationWarning)\n"
     ]
    }
   ],
   "source": [
    "#Load data\n",
    "clData = sc.read(\"../Data/clData.h5ad\")"
   ]
  },
  {
   "cell_type": "code",
   "execution_count": 124,
   "id": "b03c6c57",
   "metadata": {},
   "outputs": [
    {
     "name": "stdout",
     "output_type": "stream",
     "text": [
      "Checked top 1000 genes from each group, found 7397 unique genes for further investigation.\n"
     ]
    }
   ],
   "source": [
    "# Create a dictionary of top marker genes for each subclass\n",
    "topXgenes = 1000\n",
    "markerGenes = {}\n",
    "for indx in clData.uns[\"rank_genes_groups\"][\"pts\"].columns:\n",
    "    genesRanked = pd.DataFrame(\n",
    "            {key: clData.uns[\"rank_genes_groups\"][key][indx]\n",
    "            for key in ['names', 'pvals', 'scores', 'logfoldchanges']})\n",
    "    pts = clData.uns[\"rank_genes_groups\"][\"pts\"][indx][genesRanked.names].reset_index(drop=True).rename(\"pts\")\n",
    "    pts_rest = clData.uns[\"rank_genes_groups\"][\"pts_rest\"][indx][genesRanked.names].reset_index(drop=True).rename(\"pts_rest\")\n",
    "    pts_diff = pd.Series(pts - pts_rest, name=\"pts_diff\")\n",
    "    genesRanked = pd.concat([genesRanked, pts, pts_rest, pts_diff], axis=1)\n",
    "    genesRanked = genesRanked.sort_values(by=[\"scores\"], ascending=False, key=abs)\n",
    "    genesFiltered = genesRanked.iloc[0:topXgenes,:]\n",
    "    markerGenes[indx] = genesFiltered[\"names\"].tolist()\n",
    "\n",
    "# Find the unique elements of the list\n",
    "keyNames = list(markerGenes.keys())\n",
    "geneList = []\n",
    "for name in keyNames:\n",
    "    geneList.append(markerGenes[name][:])\n",
    "geneList = np.unique(geneList)\n",
    "print(\"Checked top {} genes from each group, found {} unique genes for further investigation.\".format(topXgenes, len(geneList)))"
   ]
  },
  {
   "cell_type": "code",
   "execution_count": 125,
   "id": "1be807dc",
   "metadata": {},
   "outputs": [],
   "source": [
    "testData = clData[:,geneList].X.toarray()\n",
    "testLabel = clData.obs[\"cluster_label\"]"
   ]
  },
  {
   "cell_type": "code",
   "execution_count": 131,
   "id": "20ca543d",
   "metadata": {},
   "outputs": [
    {
     "name": "stdout",
     "output_type": "stream",
     "text": [
      "Starting  202  marker run\n",
      "Solving a linear program with 7397 variables and 1000 constraints\n",
      "Time elapsed: 981.6791048049927 seconds\n",
      "Accuracy (whole data, 500  markers):  0.8172605654684039\n",
      "Accuracy (selected 202 markers) 0.7884464444560724\n",
      "Starting  404  marker run\n",
      "Solving a linear program with 7397 variables and 1000 constraints\n",
      "Time elapsed: 825.785786151886 seconds\n",
      "Accuracy (whole data, 500  markers):  0.8172605654684039\n",
      "Accuracy (selected 404 markers) 0.8060279420229187\n",
      "Starting  808  marker run\n",
      "Solving a linear program with 7397 variables and 1000 constraints\n",
      "Time elapsed: 1508.370597600937 seconds\n",
      "Accuracy (whole data, 500  markers):  0.8172605654684039\n",
      "Accuracy (selected 808 markers) 0.8198070919016971\n",
      "Starting  6464  marker run\n",
      "Solving a linear program with 7397 variables and 1000 constraints\n",
      "Time elapsed: 1791.0719828605652 seconds\n",
      "Accuracy (whole data, 500  markers):  0.8172605654684039\n",
      "Accuracy (selected 6464 markers) 0.8161966057942197\n",
      "Starting  500  marker run\n",
      "Solving a linear program with 7397 variables and 1000 constraints\n",
      "Time elapsed: 954.7623116970062 seconds\n",
      "Accuracy (whole data, 500  markers):  0.8172605654684039\n",
      "Accuracy (selected 500 markers) 0.8122547224111768\n"
     ]
    }
   ],
   "source": [
    "# Really sloppy setup for an overnight run:\n",
    "import pickle\n",
    "\n",
    "method = \"centers\"\n",
    "redundancy = 0.25\n",
    "\n",
    "# Run #1\n",
    "num_markers = 202\n",
    "print(\"Starting \", num_markers, \" marker run\")\n",
    "\n",
    "markers = gf.get_markers(testData,testLabel,num_markers, method = method, redundancy = redundancy)\n",
    "\n",
    "accuracy=performance(testData,testLabel,testData,testLabel, clf)\n",
    "accuracy_markers=performance(testData[:,markers],testLabel,testData[:,markers],testLabel, clf)\n",
    "\n",
    "print(\"Accuracy (whole data,\", d, \" markers): \", accuracy)\n",
    "print(\"Accuracy (selected\", num_markers, \"markers)\", accuracy_markers)\n",
    "genePanel202 = geneList[markers]\n",
    "\n",
    "# Run #2\n",
    "num_markers = 404\n",
    "print(\"Starting \", num_markers, \" marker run\")\n",
    "\n",
    "markers = gf.get_markers(testData,testLabel,num_markers, method = method, redundancy = redundancy)\n",
    "\n",
    "accuracy=performance(testData,testLabel,testData,testLabel, clf)\n",
    "accuracy_markers=performance(testData[:,markers],testLabel,testData[:,markers],testLabel, clf)\n",
    "\n",
    "print(\"Accuracy (whole data,\", d, \" markers): \", accuracy)\n",
    "print(\"Accuracy (selected\", num_markers, \"markers)\", accuracy_markers)\n",
    "genePanel404 = geneList[markers]\n",
    "\n",
    "# Run #3\n",
    "num_markers = 808\n",
    "print(\"Starting \", num_markers, \" marker run\")\n",
    "\n",
    "markers = gf.get_markers(testData,testLabel,num_markers, method = method, redundancy = redundancy)\n",
    "\n",
    "accuracy=performance(testData,testLabel,testData,testLabel, clf)\n",
    "accuracy_markers=performance(testData[:,markers],testLabel,testData[:,markers],testLabel, clf)\n",
    "\n",
    "print(\"Accuracy (whole data,\", d, \" markers): \", accuracy)\n",
    "print(\"Accuracy (selected\", num_markers, \"markers)\", accuracy_markers)\n",
    "genePanel808 = geneList[markers]\n",
    "\n",
    "# Run #4\n",
    "num_markers = 6464\n",
    "print(\"Starting \", num_markers, \" marker run\")\n",
    "\n",
    "markers = gf.get_markers(testData,testLabel,num_markers, method = method, redundancy = redundancy)\n",
    "\n",
    "accuracy=performance(testData,testLabel,testData,testLabel, clf)\n",
    "accuracy_markers=performance(testData[:,markers],testLabel,testData[:,markers],testLabel, clf)\n",
    "\n",
    "print(\"Accuracy (whole data,\", d, \" markers): \", accuracy)\n",
    "print(\"Accuracy (selected\", num_markers, \"markers)\", accuracy_markers)\n",
    "genePanel6464 = geneList[markers]\n",
    "\n",
    "# Run #5\n",
    "num_markers = 500\n",
    "print(\"Starting \", num_markers, \" marker run\")\n",
    "\n",
    "markers = gf.get_markers(testData,testLabel,num_markers, method = method, redundancy = redundancy)\n",
    "\n",
    "accuracy=performance(testData,testLabel,testData,testLabel, clf)\n",
    "accuracy_markers=performance(testData[:,markers],testLabel,testData[:,markers],testLabel, clf)\n",
    "\n",
    "print(\"Accuracy (whole data,\", d, \" markers): \", accuracy)\n",
    "print(\"Accuracy (selected\", num_markers, \"markers)\", accuracy_markers)\n",
    "genePanel500 = geneList[markers]\n",
    "\n",
    "# Compile and save data\n",
    "\n",
    "geneDict = {\"1\" : genePanel202, \"2\" : genePanel404, \"4\" : genePanel808, \"32\" : genePanel6464, \"500\" : genePanel500}\n",
    "\n",
    "with open(\"../Data/cluster_marker_genes_scGeneFit.pickle\", 'wb') as f:\n",
    "    pickle.dump(geneDict, f)\n"
   ]
  },
  {
   "attachments": {
    "scGeneFit%20runtime.PNG": {
     "image/png": "[encoded data removed]"
    }
   },
   "cell_type": "markdown",
   "id": "ba5bb662",
   "metadata": {},
   "source": [
    "## Cluster panel runtimes\n",
    "![scGeneFit%20runtime.PNG](attachment:scGeneFit%20runtime.PNG)"
   ]
  },
  {
   "cell_type": "code",
   "execution_count": 129,
   "id": "e32a1d61",
   "metadata": {},
   "outputs": [
    {
     "data": {
      "text/plain": [
       "6464"
      ]
     },
     "execution_count": 129,
     "metadata": {},
     "output_type": "execute_result"
    }
   ],
   "source": [
    "len(testLabel.unique())*32"
   ]
  }
 ],
 "metadata": {
  "kernelspec": {
   "display_name": "Python 3 (ipykernel)",
   "language": "python",
   "name": "python3"
  },
  "language_info": {
   "codemirror_mode": {
    "name": "ipython",
    "version": 3
   },
   "file_extension": ".py",
   "mimetype": "text/x-python",
   "name": "python",
   "nbconvert_exporter": "python",
   "pygments_lexer": "ipython3",
   "version": "3.10.5"
  }
 },
 "nbformat": 4,
 "nbformat_minor": 5
}
