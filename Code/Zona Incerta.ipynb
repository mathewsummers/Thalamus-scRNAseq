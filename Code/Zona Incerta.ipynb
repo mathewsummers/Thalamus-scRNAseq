{
 "cells": [
  {
   "cell_type": "markdown",
   "id": "a257841e",
   "metadata": {},
   "source": [
    "## Zona Incerta analysis"
   ]
  },
  {
   "cell_type": "code",
   "execution_count": 1,
   "id": "828d9107",
   "metadata": {},
   "outputs": [],
   "source": [
    "import numpy as np\n",
    "import pandas as pd\n",
    "import anndata as ad\n",
    "import scanpy as sc\n",
    "import matplotlib.pyplot as plt"
   ]
  },
  {
   "cell_type": "code",
   "execution_count": 2,
   "id": "5eb6e911",
   "metadata": {},
   "outputs": [],
   "source": [
    "# Load in pre-processed data\n",
    "ziData = sc.read(\"../Data/ZI_subset_from_subclass_list.h5ad\")"
   ]
  },
  {
   "cell_type": "code",
   "execution_count": 9,
   "id": "49619df6",
   "metadata": {},
   "outputs": [
    {
     "data": {
      "text/plain": [
       "['703', '2137', '2190', '1950', '602', ..., '2374', '605', '1957', '717', '621']\n",
       "Length: 219\n",
       "Categories (219, object): ['560', '572', '573', '574', ..., '2380', '2381', '2627', '4854']"
      ]
     },
     "execution_count": 9,
     "metadata": {},
     "output_type": "execute_result"
    }
   ],
   "source": [
    "ziData.obs[\"cl\"].unique()"
   ]
  },
  {
   "cell_type": "code",
   "execution_count": null,
   "id": "c8b9889c",
   "metadata": {},
   "outputs": [],
   "source": []
  },
  {
   "cell_type": "code",
   "execution_count": null,
   "id": "3c2189c9",
   "metadata": {},
   "outputs": [],
   "source": []
  }
 ],
 "metadata": {
  "kernelspec": {
   "display_name": "Python 3 (ipykernel)",
   "language": "python",
   "name": "python3"
  },
  "language_info": {
   "codemirror_mode": {
    "name": "ipython",
    "version": 3
   },
   "file_extension": ".py",
   "mimetype": "text/x-python",
   "name": "python",
   "nbconvert_exporter": "python",
   "pygments_lexer": "ipython3",
   "version": "3.10.4"
  }
 },
 "nbformat": 4,
 "nbformat_minor": 5
}
