{
 "cells": [
  {
   "cell_type": "markdown",
   "id": "93ef2958",
   "metadata": {},
   "source": [
    "## Propose notebook\n",
    "Notebook to trial implementing PROPOSE for gene panel selection"
   ]
  },
  {
   "cell_type": "code",
   "execution_count": 60,
   "id": "2b75e10a",
   "metadata": {},
   "outputs": [],
   "source": [
    "import numpy as np\n",
    "import pandas as pd\n",
    "import anndata as ad\n",
    "import scanpy as sc\n",
    "import torch\n",
    "import pickle\n",
    "import numpy as np\n",
    "import torch.nn as nn\n",
    "from propose import PROPOSE, HurdleLoss, ExpressionDataset"
   ]
  },
  {
   "cell_type": "code",
   "execution_count": 61,
   "id": "c53952bf",
   "metadata": {},
   "outputs": [],
   "source": [
    "# cuda would be better, unavailable on local machine\n",
    "device = torch.device('cpu',0)"
   ]
  },
  {
   "cell_type": "code",
   "execution_count": 62,
   "id": "4d29f3d3",
   "metadata": {},
   "outputs": [
    {
     "name": "stderr",
     "output_type": "stream",
     "text": [
      "C:\\Users\\mathew.summers\\Anaconda3\\envs\\propose\\lib\\site-packages\\anndata\\_core\\anndata.py:121: ImplicitModificationWarning: Transforming to str index.\n",
      "  warnings.warn(\"Transforming to str index.\", ImplicitModificationWarning)\n"
     ]
    }
   ],
   "source": [
    "# Load in pre-processed data from glutamatergic class designation, subclass to all rank_gene_groups already performed\n",
    "gluData = sc.read(\"../Data/gluData.h5ad\")"
   ]
  },
  {
   "cell_type": "code",
   "execution_count": 70,
   "id": "b4a0a3ce",
   "metadata": {},
   "outputs": [],
   "source": [
    "# Subset to use\n",
    "subIndx = 1000\n",
    "\n",
    "# Prep data\n",
    "testRaw = gluData.X[0:subIndx,0:800].todense()\n",
    "\n",
    "# Binarized data\n",
    "binary = np.asarray((testRaw > 0).astype(np.float32))\n",
    "\n",
    "# Subclass labels\n",
    "labels = gluData.obs[\"subclass_label\"][0:subIndx]\n",
    "labelCodes = pd.Categorical(labels).codes # convert categories to numeric (hopefully won't need to)"
   ]
  },
  {
   "cell_type": "code",
   "execution_count": 71,
   "id": "cca409e5",
   "metadata": {},
   "outputs": [
    {
     "name": "stdout",
     "output_type": "stream",
     "text": [
      "1000 total examples, 800 training examples, 100 validation examples, 100 test examples\n"
     ]
    }
   ],
   "source": [
    "# For data splitting\n",
    "n = testRaw.shape[0]\n",
    "n_train = int(0.8 * n)\n",
    "n_test = int(0.1 * n)\n",
    "all_rows = np.arange(n)\n",
    "np.random.seed(0)\n",
    "np.random.shuffle(all_rows)\n",
    "train_inds = all_rows[:n_train]\n",
    "val_inds = all_rows[n_train:-n_test]\n",
    "test_inds = all_rows[-n_test:]\n",
    "print(f'{n} total examples, {len(train_inds)} training examples, {len(val_inds)} validation examples, {len(test_inds)} test examples')"
   ]
  },
  {
   "cell_type": "markdown",
   "id": "9ecbdf49",
   "metadata": {},
   "source": [
    "## Run PROPOSE"
   ]
  },
  {
   "cell_type": "code",
   "execution_count": 72,
   "id": "ddb750ca",
   "metadata": {},
   "outputs": [],
   "source": [
    "# Set up datasets\n",
    "\n",
    "# # Unsupervised version\n",
    "# train_dataset = ExpressionDataset(binary[train_inds], testRaw[train_inds])\n",
    "# val_dataset = ExpressionDataset(binary[val_inds], testRaw[val_inds])\n",
    "\n",
    "# Pre-assigned labels version\n",
    "train_dataset = ExpressionDataset(binary[train_inds], labelCodes[train_inds])\n",
    "val_dataset = ExpressionDataset(binary[val_inds], labelCodes[val_inds])"
   ]
  },
  {
   "cell_type": "code",
   "execution_count": 67,
   "id": "36bfc479",
   "metadata": {},
   "outputs": [],
   "source": [
    "num_genes = (32, 64)\n",
    "propose_results = {}"
   ]
  },
  {
   "cell_type": "code",
   "execution_count": 75,
   "id": "f1b3e4a7",
   "metadata": {},
   "outputs": [
    {
     "name": "stdout",
     "output_type": "stream",
     "text": [
      "using CrossEntropyLoss, starting with lam = 0.0001\n"
     ]
    },
    {
     "data": {
      "application/vnd.jupyter.widget-view+json": {
       "model_id": "039d4fc8931f40e18852fe605da8fd45",
       "version_major": 2,
       "version_minor": 0
      },
      "text/plain": [
       "Training epochs:   0%|          | 0/500 [00:00<?, ?it/s]"
      ]
     },
     "metadata": {},
     "output_type": "display_data"
    },
    {
     "ename": "RuntimeError",
     "evalue": "expected scalar type Long but found Int",
     "output_type": "error",
     "traceback": [
      "\u001b[1;31m---------------------------------------------------------------------------\u001b[0m",
      "\u001b[1;31mRuntimeError\u001b[0m                              Traceback (most recent call last)",
      "Input \u001b[1;32mIn [75]\u001b[0m, in \u001b[0;36m<cell line: 9>\u001b[1;34m()\u001b[0m\n\u001b[0;32m      2\u001b[0m selector \u001b[38;5;241m=\u001b[39m PROPOSE(train_dataset,\n\u001b[0;32m      3\u001b[0m                    val_dataset,\n\u001b[0;32m      4\u001b[0m                    loss_fn\u001b[38;5;241m=\u001b[39mtorch\u001b[38;5;241m.\u001b[39mnn\u001b[38;5;241m.\u001b[39mCrossEntropyLoss(),\n\u001b[0;32m      5\u001b[0m                    device\u001b[38;5;241m=\u001b[39mdevice,\n\u001b[0;32m      6\u001b[0m                    hidden\u001b[38;5;241m=\u001b[39m[\u001b[38;5;241m128\u001b[39m, \u001b[38;5;241m128\u001b[39m])\n\u001b[0;32m      8\u001b[0m \u001b[38;5;66;03m# Eliminate many candidates\u001b[39;00m\n\u001b[1;32m----> 9\u001b[0m candidates, model \u001b[38;5;241m=\u001b[39m \u001b[43mselector\u001b[49m\u001b[38;5;241;43m.\u001b[39;49m\u001b[43meliminate\u001b[49m\u001b[43m(\u001b[49m\u001b[43mtarget\u001b[49m\u001b[38;5;241;43m=\u001b[39;49m\u001b[38;5;241;43m500\u001b[39;49m\u001b[43m,\u001b[49m\u001b[43m \u001b[49m\u001b[43mmbsize\u001b[49m\u001b[38;5;241;43m=\u001b[39;49m\u001b[38;5;241;43m128\u001b[39;49m\u001b[43m,\u001b[49m\u001b[43m \u001b[49m\u001b[43mmax_nepochs\u001b[49m\u001b[38;5;241;43m=\u001b[39;49m\u001b[38;5;241;43m500\u001b[39;49m\u001b[43m)\u001b[49m\n\u001b[0;32m     11\u001b[0m \u001b[38;5;28;01mfor\u001b[39;00m num \u001b[38;5;129;01min\u001b[39;00m num_genes:\n\u001b[0;32m     12\u001b[0m     \u001b[38;5;66;03m# Select specific number of genes\u001b[39;00m\n\u001b[0;32m     13\u001b[0m     inds, model \u001b[38;5;241m=\u001b[39m selector\u001b[38;5;241m.\u001b[39mselect(num_genes\u001b[38;5;241m=\u001b[39mnum, mbsize\u001b[38;5;241m=\u001b[39m\u001b[38;5;241m128\u001b[39m, max_nepochs\u001b[38;5;241m=\u001b[39m\u001b[38;5;241m500\u001b[39m)\n",
      "File \u001b[1;32m~\\Anaconda3\\envs\\propose\\lib\\site-packages\\propose\\selection.py:179\u001b[0m, in \u001b[0;36mPROPOSE.eliminate\u001b[1;34m(self, target, lam_init, mbsize, max_nepochs, lr, tol, start_temperature, end_temperature, optimizer, lookback, max_trials, bar, verbose)\u001b[0m\n\u001b[0;32m    176\u001b[0m trials \u001b[38;5;241m+\u001b[39m\u001b[38;5;241m=\u001b[39m \u001b[38;5;241m1\u001b[39m\n\u001b[0;32m    178\u001b[0m \u001b[38;5;66;03m# Train.\u001b[39;00m\n\u001b[1;32m--> 179\u001b[0m \u001b[43mmodel\u001b[49m\u001b[38;5;241;43m.\u001b[39;49m\u001b[43mfit\u001b[49m\u001b[43m(\u001b[49m\u001b[38;5;28;43mself\u001b[39;49m\u001b[38;5;241;43m.\u001b[39;49m\u001b[43mtrain\u001b[49m\u001b[43m,\u001b[49m\n\u001b[0;32m    180\u001b[0m \u001b[43m          \u001b[49m\u001b[38;5;28;43mself\u001b[39;49m\u001b[38;5;241;43m.\u001b[39;49m\u001b[43mval\u001b[49m\u001b[43m,\u001b[49m\n\u001b[0;32m    181\u001b[0m \u001b[43m          \u001b[49m\u001b[43mlr\u001b[49m\u001b[43m,\u001b[49m\n\u001b[0;32m    182\u001b[0m \u001b[43m          \u001b[49m\u001b[43mmbsize\u001b[49m\u001b[43m,\u001b[49m\n\u001b[0;32m    183\u001b[0m \u001b[43m          \u001b[49m\u001b[43mmax_nepochs\u001b[49m\u001b[43m,\u001b[49m\n\u001b[0;32m    184\u001b[0m \u001b[43m          \u001b[49m\u001b[43mstart_temperature\u001b[49m\u001b[38;5;241;43m=\u001b[39;49m\u001b[43mstart_temperature\u001b[49m\u001b[43m,\u001b[49m\n\u001b[0;32m    185\u001b[0m \u001b[43m          \u001b[49m\u001b[43mend_temperature\u001b[49m\u001b[38;5;241;43m=\u001b[39;49m\u001b[43mend_temperature\u001b[49m\u001b[43m,\u001b[49m\n\u001b[0;32m    186\u001b[0m \u001b[43m          \u001b[49m\u001b[43mloss_fn\u001b[49m\u001b[38;5;241;43m=\u001b[39;49m\u001b[38;5;28;43mself\u001b[39;49m\u001b[38;5;241;43m.\u001b[39;49m\u001b[43mloss_fn\u001b[49m\u001b[43m,\u001b[49m\n\u001b[0;32m    187\u001b[0m \u001b[43m          \u001b[49m\u001b[43mlam\u001b[49m\u001b[38;5;241;43m=\u001b[39;49m\u001b[43mlam\u001b[49m\u001b[43m,\u001b[49m\n\u001b[0;32m    188\u001b[0m \u001b[43m          \u001b[49m\u001b[43moptimizer\u001b[49m\u001b[38;5;241;43m=\u001b[39;49m\u001b[43moptimizer\u001b[49m\u001b[43m,\u001b[49m\n\u001b[0;32m    189\u001b[0m \u001b[43m          \u001b[49m\u001b[43mlookback\u001b[49m\u001b[38;5;241;43m=\u001b[39;49m\u001b[43mlookback\u001b[49m\u001b[43m,\u001b[49m\n\u001b[0;32m    190\u001b[0m \u001b[43m          \u001b[49m\u001b[43mbar\u001b[49m\u001b[38;5;241;43m=\u001b[39;49m\u001b[43mbar\u001b[49m\u001b[43m,\u001b[49m\n\u001b[0;32m    191\u001b[0m \u001b[43m          \u001b[49m\u001b[43mverbose\u001b[49m\u001b[38;5;241;43m=\u001b[39;49m\u001b[43mverbose\u001b[49m\u001b[43m)\u001b[49m\n\u001b[0;32m    193\u001b[0m \u001b[38;5;66;03m# Extract inds.\u001b[39;00m\n\u001b[0;32m    194\u001b[0m inds \u001b[38;5;241m=\u001b[39m model\u001b[38;5;241m.\u001b[39minput_layer\u001b[38;5;241m.\u001b[39mget_inds(threshold\u001b[38;5;241m=\u001b[39m\u001b[38;5;241m0.5\u001b[39m)\n",
      "File \u001b[1;32m~\\Anaconda3\\envs\\propose\\lib\\site-packages\\propose\\models.py:501\u001b[0m, in \u001b[0;36mSelectorMLP.fit\u001b[1;34m(self, train_dataset, val_dataset, lr, mbsize, max_nepochs, start_temperature, end_temperature, loss_fn, eta, lam, optimizer, lookback, bar, verbose)\u001b[0m\n\u001b[0;32m    499\u001b[0m \u001b[38;5;66;03m# Calculate loss.\u001b[39;00m\n\u001b[0;32m    500\u001b[0m pred, x, m \u001b[38;5;241m=\u001b[39m \u001b[38;5;28mself\u001b[39m\u001b[38;5;241m.\u001b[39mforward(x)\n\u001b[1;32m--> 501\u001b[0m loss \u001b[38;5;241m=\u001b[39m \u001b[43mloss_fn\u001b[49m\u001b[43m(\u001b[49m\u001b[43mpred\u001b[49m\u001b[43m,\u001b[49m\u001b[43m \u001b[49m\u001b[43my\u001b[49m\u001b[43m)\u001b[49m\n\u001b[0;32m    503\u001b[0m \u001b[38;5;66;03m# Calculate penalty if necessary.\u001b[39;00m\n\u001b[0;32m    504\u001b[0m \u001b[38;5;28;01mif\u001b[39;00m lam \u001b[38;5;241m>\u001b[39m \u001b[38;5;241m0\u001b[39m:\n",
      "File \u001b[1;32m~\\Anaconda3\\envs\\propose\\lib\\site-packages\\torch\\nn\\modules\\module.py:1110\u001b[0m, in \u001b[0;36mModule._call_impl\u001b[1;34m(self, *input, **kwargs)\u001b[0m\n\u001b[0;32m   1106\u001b[0m \u001b[38;5;66;03m# If we don't have any hooks, we want to skip the rest of the logic in\u001b[39;00m\n\u001b[0;32m   1107\u001b[0m \u001b[38;5;66;03m# this function, and just call forward.\u001b[39;00m\n\u001b[0;32m   1108\u001b[0m \u001b[38;5;28;01mif\u001b[39;00m \u001b[38;5;129;01mnot\u001b[39;00m (\u001b[38;5;28mself\u001b[39m\u001b[38;5;241m.\u001b[39m_backward_hooks \u001b[38;5;129;01mor\u001b[39;00m \u001b[38;5;28mself\u001b[39m\u001b[38;5;241m.\u001b[39m_forward_hooks \u001b[38;5;129;01mor\u001b[39;00m \u001b[38;5;28mself\u001b[39m\u001b[38;5;241m.\u001b[39m_forward_pre_hooks \u001b[38;5;129;01mor\u001b[39;00m _global_backward_hooks\n\u001b[0;32m   1109\u001b[0m         \u001b[38;5;129;01mor\u001b[39;00m _global_forward_hooks \u001b[38;5;129;01mor\u001b[39;00m _global_forward_pre_hooks):\n\u001b[1;32m-> 1110\u001b[0m     \u001b[38;5;28;01mreturn\u001b[39;00m forward_call(\u001b[38;5;241m*\u001b[39m\u001b[38;5;28minput\u001b[39m, \u001b[38;5;241m*\u001b[39m\u001b[38;5;241m*\u001b[39mkwargs)\n\u001b[0;32m   1111\u001b[0m \u001b[38;5;66;03m# Do not call functions when jit is used\u001b[39;00m\n\u001b[0;32m   1112\u001b[0m full_backward_hooks, non_full_backward_hooks \u001b[38;5;241m=\u001b[39m [], []\n",
      "File \u001b[1;32m~\\Anaconda3\\envs\\propose\\lib\\site-packages\\torch\\nn\\modules\\loss.py:1163\u001b[0m, in \u001b[0;36mCrossEntropyLoss.forward\u001b[1;34m(self, input, target)\u001b[0m\n\u001b[0;32m   1162\u001b[0m \u001b[38;5;28;01mdef\u001b[39;00m \u001b[38;5;21mforward\u001b[39m(\u001b[38;5;28mself\u001b[39m, \u001b[38;5;28minput\u001b[39m: Tensor, target: Tensor) \u001b[38;5;241m-\u001b[39m\u001b[38;5;241m>\u001b[39m Tensor:\n\u001b[1;32m-> 1163\u001b[0m     \u001b[38;5;28;01mreturn\u001b[39;00m \u001b[43mF\u001b[49m\u001b[38;5;241;43m.\u001b[39;49m\u001b[43mcross_entropy\u001b[49m\u001b[43m(\u001b[49m\u001b[38;5;28;43minput\u001b[39;49m\u001b[43m,\u001b[49m\u001b[43m \u001b[49m\u001b[43mtarget\u001b[49m\u001b[43m,\u001b[49m\u001b[43m \u001b[49m\u001b[43mweight\u001b[49m\u001b[38;5;241;43m=\u001b[39;49m\u001b[38;5;28;43mself\u001b[39;49m\u001b[38;5;241;43m.\u001b[39;49m\u001b[43mweight\u001b[49m\u001b[43m,\u001b[49m\n\u001b[0;32m   1164\u001b[0m \u001b[43m                           \u001b[49m\u001b[43mignore_index\u001b[49m\u001b[38;5;241;43m=\u001b[39;49m\u001b[38;5;28;43mself\u001b[39;49m\u001b[38;5;241;43m.\u001b[39;49m\u001b[43mignore_index\u001b[49m\u001b[43m,\u001b[49m\u001b[43m \u001b[49m\u001b[43mreduction\u001b[49m\u001b[38;5;241;43m=\u001b[39;49m\u001b[38;5;28;43mself\u001b[39;49m\u001b[38;5;241;43m.\u001b[39;49m\u001b[43mreduction\u001b[49m\u001b[43m,\u001b[49m\n\u001b[0;32m   1165\u001b[0m \u001b[43m                           \u001b[49m\u001b[43mlabel_smoothing\u001b[49m\u001b[38;5;241;43m=\u001b[39;49m\u001b[38;5;28;43mself\u001b[39;49m\u001b[38;5;241;43m.\u001b[39;49m\u001b[43mlabel_smoothing\u001b[49m\u001b[43m)\u001b[49m\n",
      "File \u001b[1;32m~\\Anaconda3\\envs\\propose\\lib\\site-packages\\torch\\nn\\functional.py:2996\u001b[0m, in \u001b[0;36mcross_entropy\u001b[1;34m(input, target, weight, size_average, ignore_index, reduce, reduction, label_smoothing)\u001b[0m\n\u001b[0;32m   2994\u001b[0m \u001b[38;5;28;01mif\u001b[39;00m size_average \u001b[38;5;129;01mis\u001b[39;00m \u001b[38;5;129;01mnot\u001b[39;00m \u001b[38;5;28;01mNone\u001b[39;00m \u001b[38;5;129;01mor\u001b[39;00m reduce \u001b[38;5;129;01mis\u001b[39;00m \u001b[38;5;129;01mnot\u001b[39;00m \u001b[38;5;28;01mNone\u001b[39;00m:\n\u001b[0;32m   2995\u001b[0m     reduction \u001b[38;5;241m=\u001b[39m _Reduction\u001b[38;5;241m.\u001b[39mlegacy_get_string(size_average, reduce)\n\u001b[1;32m-> 2996\u001b[0m \u001b[38;5;28;01mreturn\u001b[39;00m \u001b[43mtorch\u001b[49m\u001b[38;5;241;43m.\u001b[39;49m\u001b[43m_C\u001b[49m\u001b[38;5;241;43m.\u001b[39;49m\u001b[43m_nn\u001b[49m\u001b[38;5;241;43m.\u001b[39;49m\u001b[43mcross_entropy_loss\u001b[49m\u001b[43m(\u001b[49m\u001b[38;5;28;43minput\u001b[39;49m\u001b[43m,\u001b[49m\u001b[43m \u001b[49m\u001b[43mtarget\u001b[49m\u001b[43m,\u001b[49m\u001b[43m \u001b[49m\u001b[43mweight\u001b[49m\u001b[43m,\u001b[49m\u001b[43m \u001b[49m\u001b[43m_Reduction\u001b[49m\u001b[38;5;241;43m.\u001b[39;49m\u001b[43mget_enum\u001b[49m\u001b[43m(\u001b[49m\u001b[43mreduction\u001b[49m\u001b[43m)\u001b[49m\u001b[43m,\u001b[49m\u001b[43m \u001b[49m\u001b[43mignore_index\u001b[49m\u001b[43m,\u001b[49m\u001b[43m \u001b[49m\u001b[43mlabel_smoothing\u001b[49m\u001b[43m)\u001b[49m\n",
      "\u001b[1;31mRuntimeError\u001b[0m: expected scalar type Long but found Int"
     ]
    }
   ],
   "source": [
    "# Set up selector\n",
    "selector = PROPOSE(train_dataset,\n",
    "                   val_dataset,\n",
    "                   loss_fn=torch.nn.CrossEntropyLoss(),\n",
    "                   device=device,\n",
    "                   hidden=[128, 128])\n",
    "\n",
    "# Eliminate many candidates\n",
    "candidates, model = selector.eliminate(target=500, mbsize=128, max_nepochs=500)\n",
    "\n",
    "for num in num_genes:\n",
    "    # Select specific number of genes\n",
    "    inds, model = selector.select(num_genes=num, mbsize=128, max_nepochs=500)\n",
    "    propose_results[num] = inds"
   ]
  }
 ],
 "metadata": {
  "kernelspec": {
   "display_name": "Python 3 (ipykernel)",
   "language": "python",
   "name": "python3"
  },
  "language_info": {
   "codemirror_mode": {
    "name": "ipython",
    "version": 3
   },
   "file_extension": ".py",
   "mimetype": "text/x-python",
   "name": "python",
   "nbconvert_exporter": "python",
   "pygments_lexer": "ipython3",
   "version": "3.10.5"
  }
 },
 "nbformat": 4,
 "nbformat_minor": 5
}
